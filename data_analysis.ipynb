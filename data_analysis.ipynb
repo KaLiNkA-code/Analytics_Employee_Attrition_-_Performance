{
 "cells": [
  {
   "cell_type": "code",
   "execution_count": null,
   "metadata": {},
   "outputs": [],
   "source": [
    "import pandas as pd\n",
    "import numpy as np\n",
    "import matplotlib.pyplot as plt\n",
    "dataset = pd.read_csv(\"data/DataSet.csv\")"
   ]
  },
  {
   "cell_type": "markdown",
   "metadata": {},
   "source": [
    "Age Statysticis"
   ]
  },
  {
   "cell_type": "code",
   "execution_count": null,
   "metadata": {},
   "outputs": [],
   "source": [
    "plt.hist(dataset[\"Age\"], bins=100, label=\"Frequency of age (возраст)\")\n",
    "plt.xlabel(\"Age\")\n",
    "plt.ylabel(\"Frequency\")\n",
    "plt.show()"
   ]
  },
  {
   "cell_type": "markdown",
   "metadata": {},
   "source": [
    "Attrition Statysticis"
   ]
  },
  {
   "cell_type": "code",
   "execution_count": null,
   "metadata": {},
   "outputs": [],
   "source": [
    "plt.hist(dataset[\"Attrition\"], bins=3, label=\"Frequency of Attrition  (Отсев)\", )\n",
    "plt.xlabel(\"Attrition\")\n",
    "plt.ylabel(\"Frequency\")\n",
    "plt.show()"
   ]
  },
  {
   "cell_type": "markdown",
   "metadata": {},
   "source": [
    "BusinessTravel Statysticis"
   ]
  },
  {
   "cell_type": "code",
   "execution_count": null,
   "metadata": {},
   "outputs": [],
   "source": [
    "plt.hist(dataset[\"BusinessTravel\"], bins=5, label=\"Frequency of BusinessTravel  (Командировка)\")\n",
    "plt.xlabel(\"BusinessTravel\")\n",
    "plt.ylabel(\"Frequency\")\n",
    "plt.show()"
   ]
  },
  {
   "cell_type": "markdown",
   "metadata": {},
   "source": [
    "DailyRate Statysticis"
   ]
  },
  {
   "cell_type": "code",
   "execution_count": null,
   "metadata": {},
   "outputs": [],
   "source": [
    "plt.hist(dataset[\"DailyRate\"], bins=100, label=\"Frequency of DailyRate  (дневная ставка)\")\n",
    "plt.xlabel(\"DailyRate\")\n",
    "plt.ylabel(\"Frequency\")\n",
    "plt.show()"
   ]
  },
  {
   "cell_type": "markdown",
   "metadata": {},
   "source": [
    "Department Statysticis"
   ]
  },
  {
   "cell_type": "code",
   "execution_count": null,
   "metadata": {},
   "outputs": [],
   "source": [
    "plt.hist(dataset[\"Department\"], bins=5, label=\"Frequency of Department  (кем работает)\")\n",
    "plt.xlabel(\"Department\")\n",
    "plt.ylabel(\"Frequency\")\n",
    "plt.show()"
   ]
  },
  {
   "cell_type": "markdown",
   "metadata": {},
   "source": [
    "DistanceFromHome Statysticis"
   ]
  },
  {
   "cell_type": "code",
   "execution_count": null,
   "metadata": {},
   "outputs": [],
   "source": [
    "plt.hist(dataset[\"DistanceFromHome\"], bins=60, label=\"Frequency of DistanceFromHome  (расстояние от работы)\")\n",
    "plt.xlabel(\"DistanceFromHome\")\n",
    "plt.ylabel(\"Frequency\")\n",
    "plt.show()"
   ]
  },
  {
   "cell_type": "markdown",
   "metadata": {},
   "source": [
    "Education Statysticis"
   ]
  },
  {
   "cell_type": "code",
   "execution_count": null,
   "metadata": {},
   "outputs": [],
   "source": [
    "plt.hist(dataset[\"Education\"], bins=9, label=\"Frequency of Education  (образование)\")\n",
    "plt.xlabel(\"Education\")\n",
    "plt.ylabel(\"Frequency\")\n",
    "plt.show()"
   ]
  },
  {
   "cell_type": "markdown",
   "metadata": {},
   "source": [
    "EducationField Statysticis"
   ]
  },
  {
   "cell_type": "code",
   "execution_count": null,
   "metadata": {},
   "outputs": [],
   "source": [
    "plt.hist(dataset[\"EducationField\"], bins=15, label=\"Frequency of EducationField  (на кого учились)\")\n",
    "plt.xlabel(\"EducationField\")\n",
    "plt.ylabel(\"Frequency\")\n",
    "plt.show()"
   ]
  },
  {
   "cell_type": "markdown",
   "metadata": {},
   "source": [
    "EmployeeCount Statysticis"
   ]
  },
  {
   "cell_type": "code",
   "execution_count": null,
   "metadata": {},
   "outputs": [],
   "source": [
    "plt.hist(dataset[\"EmployeeCount\"], bins=3, label=\"Frequency of EmployeeCount  (Количество сотрудников)\")\n",
    "plt.xlabel(\"EmployeeCount\")\n",
    "plt.ylabel(\"Frequency\")\n",
    "plt.show()"
   ]
  },
  {
   "cell_type": "markdown",
   "metadata": {},
   "source": [
    "EmployeeNumber Statysticis"
   ]
  },
  {
   "cell_type": "code",
   "execution_count": null,
   "metadata": {},
   "outputs": [],
   "source": [
    "plt.hist(dataset[\"EmployeeNumber\"], bins=50, label=\"Frequency of EmployeeNumber  (Номер сотрудника)\")\n",
    "plt.xlabel(\"EmployeeNumber\")\n",
    "plt.ylabel(\"Frequency\")\n",
    "plt.show()"
   ]
  },
  {
   "cell_type": "markdown",
   "metadata": {},
   "source": [
    "EnvironmentSatisfaction Statysticis"
   ]
  },
  {
   "cell_type": "code",
   "execution_count": null,
   "metadata": {},
   "outputs": [],
   "source": [
    "plt.hist(dataset[\"EnvironmentSatisfaction\"], bins=7, label=\"Frequency of EnvironmentSatisfaction  (Окружающая среда удовлетворенность)\")\n",
    "plt.xlabel(\"EnvironmentSatisfaction\")\n",
    "plt.ylabel(\"Frequency\")\n",
    "plt.show()"
   ]
  },
  {
   "cell_type": "markdown",
   "metadata": {},
   "source": [
    "Gender Statysticis"
   ]
  },
  {
   "cell_type": "code",
   "execution_count": null,
   "metadata": {},
   "outputs": [],
   "source": [
    "plt.hist(dataset[\"Gender\"], bins=3, label=\"Frequency of Gender  (Гендр)\")\n",
    "plt.xlabel(\"Gender\")\n",
    "plt.ylabel(\"Frequency\")\n",
    "plt.show()"
   ]
  },
  {
   "cell_type": "markdown",
   "metadata": {},
   "source": [
    "HourlyRate Statysticis"
   ]
  },
  {
   "cell_type": "code",
   "execution_count": null,
   "metadata": {},
   "outputs": [],
   "source": [
    "plt.hist(dataset[\"HourlyRate\"], bins=100, label=\"Frequency of HourlyRate  (Почасовая ставка)\")\n",
    "plt.xlabel(\"HourlyRate\")\n",
    "plt.ylabel(\"Frequency\")\n",
    "plt.show()"
   ]
  },
  {
   "cell_type": "markdown",
   "metadata": {},
   "source": [
    "JobInvolvement Statysticis"
   ]
  },
  {
   "cell_type": "code",
   "execution_count": null,
   "metadata": {},
   "outputs": [],
   "source": [
    "plt.hist(dataset[\"JobInvolvement\"], bins=7, label=\"Frequency of JobInvolvement  (Вовлеченность в работу)\")\n",
    "plt.xlabel(\"JobInvolvement\")\n",
    "plt.ylabel(\"Frequency\")\n",
    "plt.show()"
   ]
  },
  {
   "cell_type": "markdown",
   "metadata": {},
   "source": [
    "JobLevel Statysticis"
   ]
  },
  {
   "cell_type": "code",
   "execution_count": null,
   "metadata": {},
   "outputs": [],
   "source": [
    "plt.hist(dataset[\"JobLevel\"], bins=9, label=\"Frequency of JobLevel  (Уровень работы)\")\n",
    "plt.xlabel(\"JobLevel\")\n",
    "plt.ylabel(\"Frequency\")\n",
    "plt.show()"
   ]
  },
  {
   "cell_type": "markdown",
   "metadata": {},
   "source": [
    "JobRole Statysticis"
   ]
  },
  {
   "cell_type": "code",
   "execution_count": null,
   "metadata": {},
   "outputs": [],
   "source": [
    "plt.hist(dataset[\"JobRole\"], bins=100, label=\"Frequency of JobRole  (Роль)\")\n",
    "plt.xlabel(\"JobRole\")\n",
    "plt.ylabel(\"Frequency\")\n",
    "plt.show()"
   ]
  },
  {
   "cell_type": "markdown",
   "metadata": {},
   "source": [
    "JobSatisfaction Statysticis"
   ]
  },
  {
   "cell_type": "code",
   "execution_count": null,
   "metadata": {},
   "outputs": [],
   "source": [
    "plt.hist(dataset[\"JobSatisfaction\"], bins=7, label=\"Frequency of JobSatisfaction  (Удовлетворенность работой)\")\n",
    "plt.xlabel(\"JobSatisfaction\")\n",
    "plt.ylabel(\"Frequency\")\n",
    "plt.show()"
   ]
  },
  {
   "cell_type": "markdown",
   "metadata": {},
   "source": [
    "MaritalStatus Statysticis"
   ]
  },
  {
   "cell_type": "code",
   "execution_count": null,
   "metadata": {},
   "outputs": [],
   "source": [
    "plt.hist(dataset[\"MaritalStatus\"], bins=5, label=\"Frequency of MaritalStatus  (Семейное положение)\")\n",
    "plt.xlabel(\"MaritalStatus\")\n",
    "plt.ylabel(\"Frequency\")\n",
    "plt.show()"
   ]
  },
  {
   "cell_type": "markdown",
   "metadata": {},
   "source": [
    "MonthlyIncome Statysticis"
   ]
  },
  {
   "cell_type": "code",
   "execution_count": null,
   "metadata": {},
   "outputs": [],
   "source": [
    "plt.hist(dataset[\"MonthlyIncome\"], bins=100, label=\"Frequency of MonthlyIncome  (Зарплата в месяц)\")\n",
    "plt.xlabel(\"MonthlyIncome\")\n",
    "plt.ylabel(\"Frequency\")\n",
    "plt.show()"
   ]
  },
  {
   "cell_type": "markdown",
   "metadata": {},
   "source": [
    "MonthlyRate Statysticis"
   ]
  },
  {
   "cell_type": "code",
   "execution_count": null,
   "metadata": {},
   "outputs": [],
   "source": [
    "plt.hist(dataset[\"MonthlyRate\"], bins=100, label=\"Frequency of MonthlyRate  (Ежемесячная ставка)\")\n",
    "plt.xlabel(\"MonthlyRate\")\n",
    "plt.ylabel(\"Frequency\")\n",
    "plt.show()"
   ]
  },
  {
   "cell_type": "markdown",
   "metadata": {},
   "source": [
    "NumCompaniesWorked Statysticis"
   ]
  },
  {
   "cell_type": "code",
   "execution_count": null,
   "metadata": {},
   "outputs": [],
   "source": [
    "plt.hist(dataset[\"NumCompaniesWorked\"], bins=19, label=\"Frequency of NumCompaniesWorked  (Число компаний, в которых работали)\")\n",
    "plt.xlabel(\"NumCompaniesWorked\")\n",
    "plt.ylabel(\"Frequency\")\n",
    "plt.show()"
   ]
  },
  {
   "cell_type": "markdown",
   "metadata": {},
   "source": [
    "Over18 Statysticis"
   ]
  },
  {
   "cell_type": "code",
   "execution_count": null,
   "metadata": {},
   "outputs": [],
   "source": [
    "plt.hist(dataset[\"Over18\"], bins=3, label=\"Frequency of Over18  (За 18)\")\n",
    "plt.xlabel(\"Over18\")\n",
    "plt.ylabel(\"Frequency\")\n",
    "plt.show()"
   ]
  },
  {
   "cell_type": "markdown",
   "metadata": {},
   "source": [
    "OverTime Statysticis"
   ]
  },
  {
   "cell_type": "code",
   "execution_count": null,
   "metadata": {},
   "outputs": [],
   "source": [
    "plt.hist(dataset[\"OverTime\"], bins=3, label=\"Frequency of OverTime  (Переработки)\")\n",
    "plt.xlabel(\"OverTime\")\n",
    "plt.ylabel(\"Frequency\")\n",
    "plt.show()"
   ]
  },
  {
   "cell_type": "markdown",
   "metadata": {},
   "source": [
    "PercentSalaryHike Statysticis"
   ]
  },
  {
   "cell_type": "code",
   "execution_count": null,
   "metadata": {},
   "outputs": [],
   "source": [
    "plt.hist(dataset[\"PercentSalaryHike\"], bins=29, label=\"Frequency of PercentSalaryHike  (Процентное повышение зарплаты)\")\n",
    "plt.xlabel(\"PercentSalaryHike\")\n",
    "plt.ylabel(\"Frequency\")\n",
    "plt.show()"
   ]
  },
  {
   "cell_type": "markdown",
   "metadata": {},
   "source": [
    "PerformanceRating Statysticis"
   ]
  },
  {
   "cell_type": "code",
   "execution_count": null,
   "metadata": {},
   "outputs": [],
   "source": [
    "plt.hist(dataset[\"PerformanceRating\"], bins=5, label=\"Frequency of PerformanceRating  (Производительность Рейтинг)\")\n",
    "plt.xlabel(\"PerformanceRating\")\n",
    "plt.ylabel(\"Frequency\")\n",
    "plt.show()"
   ]
  },
  {
   "cell_type": "markdown",
   "metadata": {},
   "source": [
    "RelationshipSatisfaction Statysticis"
   ]
  },
  {
   "cell_type": "code",
   "execution_count": null,
   "metadata": {},
   "outputs": [],
   "source": [
    "plt.hist(dataset[\"RelationshipSatisfaction\"], bins=7, label=\"Frequency of RelationshipSatisfaction  (Удовлетворенность в отношениях)\")\n",
    "plt.xlabel(\"RelationshipSatisfaction\")\n",
    "plt.ylabel(\"Frequency\")\n",
    "plt.show()"
   ]
  },
  {
   "cell_type": "markdown",
   "metadata": {},
   "source": [
    "StandardHours Statysticis"
   ]
  },
  {
   "cell_type": "code",
   "execution_count": null,
   "metadata": {},
   "outputs": [],
   "source": [
    "plt.hist(dataset[\"StandardHours\"], bins=3, label=\"Frequency of StandardHours  (Кол-во часов)\")\n",
    "plt.xlabel(\"StandardHours\")\n",
    "plt.ylabel(\"Frequency\")\n",
    "plt.show()"
   ]
  },
  {
   "cell_type": "markdown",
   "metadata": {},
   "source": [
    "StockOptionLevel Statysticis"
   ]
  },
  {
   "cell_type": "code",
   "execution_count": null,
   "metadata": {},
   "outputs": [],
   "source": [
    "plt.hist(dataset[\"StockOptionLevel\"], bins=7, label=\"Frequency of StockOptionLevel (Уровень опционов)\")\n",
    "plt.xlabel(\"StockOptionLevel\")\n",
    "plt.ylabel(\"Frequency\")\n",
    "plt.show()"
   ]
  },
  {
   "cell_type": "markdown",
   "metadata": {},
   "source": [
    "TotalWorkingYears Statysticis"
   ]
  },
  {
   "cell_type": "code",
   "execution_count": null,
   "metadata": {},
   "outputs": [],
   "source": [
    "plt.hist(dataset[\"TotalWorkingYears\"], bins=50, label=\"Frequency of TotalWorkingYears  (опыт работы в годах)\")\n",
    "plt.xlabel(\"TotalWorkingYears\")\n",
    "plt.ylabel(\"Frequency\")\n",
    "plt.show()"
   ]
  },
  {
   "cell_type": "markdown",
   "metadata": {},
   "source": [
    "TrainingTimesLastYear Statysticis"
   ]
  },
  {
   "cell_type": "code",
   "execution_count": null,
   "metadata": {},
   "outputs": [],
   "source": [
    "plt.hist(dataset[\"TrainingTimesLastYear\"], bins=13, label=\"Frequency of TrainingTimesLastYear  (опыт работы в годах)\")\n",
    "plt.xlabel(\"TrainingTimesLastYear\")\n",
    "plt.ylabel(\"Frequency\")\n",
    "plt.show()"
   ]
  },
  {
   "cell_type": "markdown",
   "metadata": {},
   "source": [
    "WorkLifeBalance Statysticis"
   ]
  },
  {
   "cell_type": "code",
   "execution_count": null,
   "metadata": {},
   "outputs": [],
   "source": [
    "plt.hist(dataset[\"WorkLifeBalance\"], bins=7, label=\"Frequency of WorkLifeBalance  (Работа-Жизнь Баланс)\")\n",
    "plt.xlabel(\"WorkLifeBalance\")\n",
    "plt.ylabel(\"Frequency\")\n",
    "plt.show()"
   ]
  },
  {
   "cell_type": "markdown",
   "metadata": {},
   "source": [
    "YearsAtCompany Statysticis"
   ]
  },
  {
   "cell_type": "code",
   "execution_count": null,
   "metadata": {},
   "outputs": [],
   "source": [
    "plt.hist(dataset[\"YearsAtCompany\"], bins=20, label=\"Frequency of YearsAtCompany  (сколько лет в компании)\")\n",
    "plt.xlabel(\"YearsAtCompany\")\n",
    "plt.ylabel(\"Frequency\")\n",
    "plt.show()"
   ]
  },
  {
   "cell_type": "markdown",
   "metadata": {},
   "source": [
    "YearsInCurrentRole Statysticis"
   ]
  },
  {
   "cell_type": "code",
   "execution_count": null,
   "metadata": {},
   "outputs": [],
   "source": [
    "plt.hist(dataset[\"YearsInCurrentRole\"], bins=20, label=\"Frequency of YearsInCurrentRole  (сколько лет на одной должности)\")\n",
    "plt.xlabel(\"YearsInCurrentRole\")\n",
    "plt.ylabel(\"Frequency\")\n",
    "plt.show()"
   ]
  },
  {
   "cell_type": "markdown",
   "metadata": {},
   "source": [
    "YearsSinceLastPromotion Statysticis"
   ]
  },
  {
   "cell_type": "code",
   "execution_count": null,
   "metadata": {},
   "outputs": [],
   "source": [
    "plt.hist(dataset[\"YearsSinceLastPromotion\"], bins=20, label=\"Frequency of YearsSinceLastPromotion  (Годы с момента последнего повышения)\")\n",
    "plt.xlabel(\"YearsSinceLastPromotion\")\n",
    "plt.ylabel(\"Frequency\")\n",
    "plt.show()"
   ]
  },
  {
   "cell_type": "markdown",
   "metadata": {},
   "source": [
    "YearsWithCurrManager Statysticis"
   ]
  },
  {
   "cell_type": "code",
   "execution_count": null,
   "metadata": {},
   "outputs": [],
   "source": [
    "plt.hist(dataset[\"YearsWithCurrManager\"], bins=20, label=\"Frequency of YearsWithCurrManager  (Годы работы с текущим руководителем)\")\n",
    "plt.xlabel(\"YearsWithCurrManager\")\n",
    "plt.ylabel(\"Frequency\")\n",
    "plt.show()"
   ]
  },
  {
   "cell_type": "code",
   "execution_count": null,
   "metadata": {},
   "outputs": [],
   "source": [
    "import seaborn as sns\n",
    "\n",
    "\n",
    "data = dataset.corr()\n",
    "plt.figure(figsize=(14,14))\n",
    "sns.heatmap(data.corr(), annot = True, fmt= \".0%\")"
   ]
  },
  {
   "cell_type": "code",
   "execution_count": null,
   "metadata": {},
   "outputs": [],
   "source": [
    "dataset.shape\n",
    "dataset.dtypes"
   ]
  },
  {
   "cell_type": "code",
   "execution_count": null,
   "metadata": {},
   "outputs": [],
   "source": []
  },
  {
   "cell_type": "code",
   "execution_count": null,
   "metadata": {},
   "outputs": [],
   "source": []
  }
 ],
 "metadata": {
  "kernelspec": {
   "display_name": "Python 3.8.6 64-bit",
   "language": "python",
   "name": "python3"
  },
  "language_info": {
   "codemirror_mode": {
    "name": "ipython",
    "version": 3
   },
   "file_extension": ".py",
   "mimetype": "text/x-python",
   "name": "python",
   "nbconvert_exporter": "python",
   "pygments_lexer": "ipython3",
   "version": "3.8.6"
  },
  "vscode": {
   "interpreter": {
    "hash": "723d4b7bc280cd31fdada53ad6420192b9a3a8d60631096143cc718cb9440dc1"
   }
  }
 },
 "nbformat": 4,
 "nbformat_minor": 2
}
