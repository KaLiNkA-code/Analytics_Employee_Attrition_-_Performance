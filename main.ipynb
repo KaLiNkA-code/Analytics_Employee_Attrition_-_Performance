{
 "cells": [
  {
   "cell_type": "markdown",
   "metadata": {},
   "source": [
    "Today I am will study model, witch was Analytics Employee Attrition & Performance!)"
   ]
  },
  {
   "cell_type": "code",
   "execution_count": null,
   "metadata": {},
   "outputs": [],
   "source": [
    "import pandas as pd\n",
    "import numpy as np\n",
    "import matplotlib.pyplot as plt"
   ]
  },
  {
   "cell_type": "code",
   "execution_count": null,
   "metadata": {},
   "outputs": [],
   "source": [
    "dataset = pd.read_csv(\"data/DataSet.csv\")"
   ]
  },
  {
   "cell_type": "markdown",
   "metadata": {},
   "source": [
    "# Analysisis data"
   ]
  },
  {
   "cell_type": "markdown",
   "metadata": {},
   "source": [
    "#### in ***\"data_analysis\"*** file     \n",
    "###### <del>(I thought it was better to move it to another file)</del> \n"
   ]
  },
  {
   "cell_type": "markdown",
   "metadata": {},
   "source": [
    "### Okay, I analyzed the dataset. I decided to predict the <ins>*Daily Rate*</ins>."
   ]
  },
  {
   "cell_type": "markdown",
   "metadata": {},
   "source": []
  },
  {
   "cell_type": "markdown",
   "metadata": {},
   "source": [
    "## Columns, witch I will using:"
   ]
  },
  {
   "cell_type": "markdown",
   "metadata": {},
   "source": [
    "- Age\n",
    "- BusinessTravel\n",
    "- DailyRate\n",
    "- Department\n",
    "- Education\n",
    "- EducationField\n",
    "- EnvironmentSatisfaction\n",
    "- Gender\n",
    "- JobInvolvement\n",
    "- JobLevel\n",
    "- JobRole\n",
    "- JobSatisfaction\n",
    "- MaritalStatus\n",
    "- NumCompaniesWorked\n",
    "- OverTime\n",
    "- PercentSalaryHike\n",
    "- PerformanceRating\n",
    "- RelationshipSatisfaction\n",
    "- StockOptionLevel\n",
    "- TotalWorkingYears\n",
    "- TrainingTimesLastYear\n",
    "- WorkLifeBalance\n",
    "- YearsAtCompany\n",
    "- YearsInCurrentRole\n",
    "- YearsSinceLastPromotion\n",
    "- YearsWithCurrManager\n"
   ]
  },
  {
   "cell_type": "markdown",
   "metadata": {},
   "source": [
    "# prepairing data"
   ]
  },
  {
   "cell_type": "code",
   "execution_count": null,
   "metadata": {},
   "outputs": [],
   "source": [
    "dataset.columns"
   ]
  },
  {
   "cell_type": "code",
   "execution_count": null,
   "metadata": {},
   "outputs": [],
   "source": [
    "dataset = dataset.loc[:, [\"Age\", \"BusinessTravel\", \"Department\", \"Education\", \"EducationField\", \"EnvironmentSatisfaction\", \n",
    "                      \"Gender\", \"JobInvolvement\", \"JobLevel\", \"JobRole\", \"JobSatisfaction\", \"MaritalStatus\", \"NumCompaniesWorked\", \n",
    "                      \"OverTime\", \"PercentSalaryHike\", \"PerformanceRating\", \"RelationshipSatisfaction\", \"StockOptionLevel\", \n",
    "                      \"TotalWorkingYears\", \"TrainingTimesLastYear\", \"WorkLifeBalance\", \"YearsAtCompany\", \"YearsInCurrentRole\", \n",
    "                      \"YearsSinceLastPromotion\", \"YearsWithCurrManager\", \"HourlyRate\"]]\n",
    "\n",
    "dataset.describe()\n",
    "dataset.columns"
   ]
  },
  {
   "cell_type": "code",
   "execution_count": null,
   "metadata": {},
   "outputs": [],
   "source": [
    "dataset.isna().sum()"
   ]
  },
  {
   "cell_type": "code",
   "execution_count": null,
   "metadata": {},
   "outputs": [],
   "source": []
  },
  {
   "cell_type": "code",
   "execution_count": null,
   "metadata": {},
   "outputs": [],
   "source": [
    "dataset.astype(dtype=object)"
   ]
  },
  {
   "cell_type": "code",
   "execution_count": null,
   "metadata": {},
   "outputs": [],
   "source": [
    "dataset.dtypes"
   ]
  },
  {
   "cell_type": "code",
   "execution_count": null,
   "metadata": {},
   "outputs": [],
   "source": [
    "dataset[\"OverTime\"].unique()"
   ]
  },
  {
   "cell_type": "code",
   "execution_count": null,
   "metadata": {},
   "outputs": [],
   "source": [
    "dataset.isnull().values.any()"
   ]
  },
  {
   "cell_type": "code",
   "execution_count": null,
   "metadata": {},
   "outputs": [],
   "source": [
    "from prepairing import Prepairing_data\n",
    "\n",
    "\n",
    "prepaired_dataset = Prepairing_data(dataset)\n",
    "\n",
    "dataset = prepaired_dataset.first_prepairing()\n",
    "#  dataset[\"MaritalStatus\"].unique()\n",
    "dataset.head()\n",
    "\n"
   ]
  },
  {
   "cell_type": "code",
   "execution_count": null,
   "metadata": {},
   "outputs": [],
   "source": [
    "dataset = prepaired_dataset.prepairing()\n",
    "dataset.head()"
   ]
  },
  {
   "cell_type": "code",
   "execution_count": null,
   "metadata": {},
   "outputs": [],
   "source": []
  },
  {
   "cell_type": "markdown",
   "metadata": {},
   "source": [
    "## Data Split"
   ]
  },
  {
   "cell_type": "code",
   "execution_count": null,
   "metadata": {},
   "outputs": [],
   "source": [
    "train_X, train_target, val_target, val_X, test_target, test_X = prepaired_dataset.data_split(df=dataset, count=3)\n",
    "\n",
    "train_X.head"
   ]
  },
  {
   "cell_type": "markdown",
   "metadata": {},
   "source": [
    "## Machine Learning  (train)"
   ]
  },
  {
   "cell_type": "code",
   "execution_count": null,
   "metadata": {},
   "outputs": [],
   "source": [
    "from sklearn import linear_model\n",
    "\n",
    "\n",
    "lm = linear_model.LinearRegression()\n",
    "model = lm.fit(train_X, train_target)"
   ]
  },
  {
   "cell_type": "markdown",
   "metadata": {},
   "source": [
    "### Test with val_predict"
   ]
  },
  {
   "cell_type": "code",
   "execution_count": null,
   "metadata": {},
   "outputs": [],
   "source": [
    "from sklearn.metrics import mean_squared_error\n",
    "\n",
    "\n",
    "val_predict = pd.DataFrame(lm.predict(val_X))\n",
    "\n",
    "val_predict.head\n",
    "loss = mean_squared_error(val_predict, val_target)\n",
    "\n",
    "print(f\"Ошибка составляет {(loss*100):.5f}%\")"
   ]
  },
  {
   "cell_type": "markdown",
   "metadata": {},
   "source": [
    "## Machine Learning  (value)"
   ]
  },
  {
   "cell_type": "code",
   "execution_count": null,
   "metadata": {},
   "outputs": [],
   "source": [
    "model = lm.fit(val_X, val_target)"
   ]
  },
  {
   "cell_type": "markdown",
   "metadata": {},
   "source": [
    "### Test with test_predict"
   ]
  },
  {
   "cell_type": "code",
   "execution_count": null,
   "metadata": {},
   "outputs": [],
   "source": [
    "test_predict = pd.DataFrame(lm.predict(val_X))\n",
    "\n",
    "val_predict.head\n",
    "loss = mean_squared_error(test_predict, test_target)\n",
    "\n",
    "print(f\"Ошибка составляет {(loss*100):.5f}%\")"
   ]
  },
  {
   "cell_type": "markdown",
   "metadata": {},
   "source": [
    "### Today I am studied this model and I had very bad score. I do not, why. Okey, tomorrow I will check, what is can broken it."
   ]
  }
 ],
 "metadata": {
  "kernelspec": {
   "display_name": "Python 3.8.6 64-bit",
   "language": "python",
   "name": "python3"
  },
  "language_info": {
   "codemirror_mode": {
    "name": "ipython",
    "version": 3
   },
   "file_extension": ".py",
   "mimetype": "text/x-python",
   "name": "python",
   "nbconvert_exporter": "python",
   "pygments_lexer": "ipython3",
   "version": "3.8.6"
  },
  "vscode": {
   "interpreter": {
    "hash": "723d4b7bc280cd31fdada53ad6420192b9a3a8d60631096143cc718cb9440dc1"
   }
  }
 },
 "nbformat": 4,
 "nbformat_minor": 2
}
